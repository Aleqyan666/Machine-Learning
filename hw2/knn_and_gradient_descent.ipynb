{
 "cells": [
  {
   "cell_type": "code",
   "execution_count": 8,
   "id": "0bd21d6b",
   "metadata": {},
   "outputs": [],
   "source": [
    "import numpy as np\n",
    "from loguru import logger"
   ]
  },
  {
   "cell_type": "code",
   "execution_count": 9,
   "id": "0f1859a5",
   "metadata": {},
   "outputs": [],
   "source": [
    "def KNN_Regression(X_train, y_train, X_test, k=2):\n",
    "    X_train = np.array(X_train)\n",
    "    y_train = np.array(y_train)\n",
    "    X_test = np.array(X_test)\n",
    "\n",
    "    preds = []\n",
    "    for x in X_test:\n",
    "        euclidean_distances = np.linalg.norm(X_train - x, axis=1)\n",
    "        nn_idx = np.argsort(euclidean_distances)[:k]\n",
    "        pred = np.mean(y_train[nn_idx])\n",
    "        preds.append(pred)\n",
    "\n",
    "    return np.array(preds)"
   ]
  },
  {
   "cell_type": "code",
   "execution_count": 10,
   "id": "fcca5b1d",
   "metadata": {},
   "outputs": [],
   "source": [
    "X_train = np.array([[1, 2],\n",
    "                    [2, 3],\n",
    "                    [3, 4],\n",
    "                    [4, 5]])\n",
    "y_train = np.array([2, 3, 4, 5])\n",
    "\n",
    "X_test = np.array([[1, 1],\n",
    "                   [2, 2]])"
   ]
  },
  {
   "cell_type": "code",
   "execution_count": 18,
   "id": "1dd03233",
   "metadata": {},
   "outputs": [
    {
     "data": {
      "text/plain": [
       "array([2.5, 2.5])"
      ]
     },
     "execution_count": 18,
     "metadata": {},
     "output_type": "execute_result"
    }
   ],
   "source": [
    "preds = KNN_Regression(X_train, y_train, X_test, k=2)\n",
    "preds"
   ]
  },
  {
   "cell_type": "code",
   "execution_count": 19,
   "id": "5510be9b",
   "metadata": {},
   "outputs": [],
   "source": [
    "def GradientDescent(theta0, lr, f, fprime, tol=1e-6, max_iter=1000):\n",
    "    theta = theta0\n",
    "    values = [theta]\n",
    "\n",
    "    for _ in range(max_iter):\n",
    "        new_theta = theta - lr * fprime(theta)\n",
    "        if abs(f(new_theta) - f(theta)) < tol:\n",
    "            return new_theta, values + [new_theta]\n",
    "\n",
    "        theta = new_theta\n",
    "        values.append(theta)\n",
    "\n",
    "    return theta, values"
   ]
  },
  {
   "cell_type": "code",
   "execution_count": 20,
   "id": "d75b7892",
   "metadata": {},
   "outputs": [
    {
     "name": "stdout",
     "output_type": "stream",
     "text": [
      "Result: 0.0013292279957849164\n",
      "First few steps: [10, 8.0, 6.4, 5.12, 4.096, 3.2768, 2.62144, 2.0971520000000003, 1.6777216000000004, 1.3421772800000003]\n"
     ]
    }
   ],
   "source": [
    "f  = lambda t: t**2\n",
    "fprime = lambda t: 2*t\n",
    "theta_star, steps = GradientDescent(theta0=10, lr=0.1, f=f, fprime=fprime)\n",
    "\n",
    "print(\"Result:\", theta_star)\n",
    "print(\"First few steps:\", steps[:10])"
   ]
  }
 ],
 "metadata": {
  "kernelspec": {
   "display_name": "Python 3",
   "language": "python",
   "name": "python3"
  },
  "language_info": {
   "codemirror_mode": {
    "name": "ipython",
    "version": 3
   },
   "file_extension": ".py",
   "mimetype": "text/x-python",
   "name": "python",
   "nbconvert_exporter": "python",
   "pygments_lexer": "ipython3",
   "version": "3.13.5"
  }
 },
 "nbformat": 4,
 "nbformat_minor": 5
}
