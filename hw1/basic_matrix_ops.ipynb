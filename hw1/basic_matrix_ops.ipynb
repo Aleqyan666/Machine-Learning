{
 "cells": [
  {
   "cell_type": "markdown",
   "id": "863f6ba0",
   "metadata": {},
   "source": [
    "### Importing Necessary Packages"
   ]
  },
  {
   "cell_type": "code",
   "execution_count": 2,
   "id": "487deeef",
   "metadata": {},
   "outputs": [],
   "source": [
    "import numpy as np\n",
    "from sklearn.datasets import load_diabetes"
   ]
  },
  {
   "cell_type": "markdown",
   "id": "da0c289a",
   "metadata": {},
   "source": [
    "### (a) Extract the features and target variable as NumPy arrays"
   ]
  },
  {
   "cell_type": "code",
   "execution_count": 3,
   "id": "254c76dd",
   "metadata": {},
   "outputs": [
    {
     "name": "stdout",
     "output_type": "stream",
     "text": [
      "Features shape: (442, 10)\n",
      "Target shape: (442,)\n"
     ]
    }
   ],
   "source": [
    "X, y = load_diabetes(return_X_y=True)\n",
    "\n",
    "print(\"Features shape:\", X.shape)  \n",
    "print(\"Target shape:\", y.shape) "
   ]
  },
  {
   "cell_type": "markdown",
   "id": "edad554b",
   "metadata": {},
   "source": [
    "### (b) Calculate and print the correlation matrix between any two features"
   ]
  },
  {
   "cell_type": "code",
   "execution_count": 4,
   "id": "5735e54e",
   "metadata": {},
   "outputs": [
    {
     "name": "stdout",
     "output_type": "stream",
     "text": [
      "Correlation matrix between feature 1 and 2:\n",
      " [[1.        0.1737371]\n",
      " [0.1737371 1.       ]]\n"
     ]
    }
   ],
   "source": [
    "f1 = X[:, 0]\n",
    "f2 = X[:, 1]\n",
    "corr_matrix = np.corrcoef(f1, f2)\n",
    "print(\"Correlation matrix between feature 1 and 2:\\n\", corr_matrix)"
   ]
  },
  {
   "cell_type": "markdown",
   "id": "893d664f",
   "metadata": {},
   "source": [
    "### (c) Calculate the square of any feature"
   ]
  },
  {
   "cell_type": "code",
   "execution_count": 7,
   "id": "f68adcfe",
   "metadata": {},
   "outputs": [
    {
     "name": "stdout",
     "output_type": "stream",
     "text": [
      "First 5 squared values of feature 2:\n",
      " [3.80642190e-03 2.64957898e-03 1.97591037e-03 1.34444361e-04\n",
      " 1.32384583e-03 1.65615957e-03 2.22433092e-03 3.58991022e-06\n",
      " 3.80642190e-03 1.52585179e-03]\n"
     ]
    }
   ],
   "source": [
    "f3_squared = X[:, 2] ** 2\n",
    "print(\"First 5 squared values of feature 2:\\n\", f3_squared[:10])"
   ]
  },
  {
   "cell_type": "markdown",
   "id": "72d145ad",
   "metadata": {},
   "source": [
    "### (d) Perform matrix multiplication between features and the transpose of features"
   ]
  },
  {
   "cell_type": "code",
   "execution_count": 10,
   "id": "712f0421",
   "metadata": {},
   "outputs": [
    {
     "name": "stdout",
     "output_type": "stream",
     "text": [
      "Shape of X @ X.T: (442, 442)\n"
     ]
    }
   ],
   "source": [
    "XtX = X @ X.T\n",
    "print(\"Shape of X @ X.T:\", XtX.shape)"
   ]
  },
  {
   "cell_type": "markdown",
   "id": "3931c093",
   "metadata": {},
   "source": [
    "### (e) Calculate the determinant of the resulting matrix"
   ]
  },
  {
   "cell_type": "code",
   "execution_count": 11,
   "id": "ddc758b7",
   "metadata": {},
   "outputs": [
    {
     "name": "stdout",
     "output_type": "stream",
     "text": [
      "Determinant of X @ X.T: -0.0\n"
     ]
    }
   ],
   "source": [
    "det_val = np.linalg.det(XtX)\n",
    "print(\"Determinant of X @ X.T:\", det_val)"
   ]
  }
 ],
 "metadata": {
  "kernelspec": {
   "display_name": "Python 3",
   "language": "python",
   "name": "python3"
  },
  "language_info": {
   "codemirror_mode": {
    "name": "ipython",
    "version": 3
   },
   "file_extension": ".py",
   "mimetype": "text/x-python",
   "name": "python",
   "nbconvert_exporter": "python",
   "pygments_lexer": "ipython3",
   "version": "3.13.5"
  }
 },
 "nbformat": 4,
 "nbformat_minor": 5
}
