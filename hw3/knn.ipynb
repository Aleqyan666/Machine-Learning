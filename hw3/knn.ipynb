{
 "cells": [
  {
   "cell_type": "markdown",
   "id": "7075ce7a",
   "metadata": {},
   "source": [
    "### Import Libraries"
   ]
  },
  {
   "cell_type": "code",
   "execution_count": 31,
   "id": "1ab38aa4",
   "metadata": {},
   "outputs": [],
   "source": [
    "import numpy as np\n",
    "import pandas as pd\n",
    "from sklearn.model_selection import train_test_split\n",
    "from sklearn.decomposition import PCA\n",
    "from sklearn.neighbors import KNeighborsClassifier\n",
    "from sklearn.metrics import accuracy_score\n",
    "from loguru import logger"
   ]
  },
  {
   "cell_type": "code",
   "execution_count": 32,
   "id": "a9938399",
   "metadata": {},
   "outputs": [],
   "source": [
    "train = pd.read_csv(\"train.csv\")\n",
    "test = pd.read_csv(\"test.csv\")\n",
    "y = train[\"label\"].values\n",
    "X = train.drop(\"label\", axis=1).values.astype(np.float32)\n",
    "X_test = test.values.astype(np.float32)\n",
    "\n",
    "X /= 255.0\n",
    "X_test /= 255.0\n",
    "X_train, X_val, y_train, y_val = train_test_split(X, y, test_size=0.15, random_state=42, stratify=y)"
   ]
  },
  {
   "cell_type": "markdown",
   "id": "aeb71710",
   "metadata": {},
   "source": [
    "### PCA"
   ]
  },
  {
   "cell_type": "code",
   "execution_count": 33,
   "id": "7523e6a0",
   "metadata": {},
   "outputs": [],
   "source": [
    "pca = PCA(n_components=100) \n",
    "X_train_pca = pca.fit_transform(X_train)\n",
    "X_val_pca = pca.transform(X_val)\n",
    "X_test_pca = pca.transform(X_test)"
   ]
  },
  {
   "cell_type": "markdown",
   "id": "e1d65b86",
   "metadata": {},
   "source": [
    "### Tuning K"
   ]
  },
  {
   "cell_type": "code",
   "execution_count": 34,
   "id": "e854387f",
   "metadata": {},
   "outputs": [
    {
     "name": "stdout",
     "output_type": "stream",
     "text": [
      "k = 1 val acc = 0.9693650793650793\n",
      "k = 3 val acc = 0.9747619047619047\n",
      "k = 5 val acc = 0.9739682539682539\n",
      "k = 7 val acc = 0.9720634920634921\n",
      "k = 11 val acc = 0.9687301587301588\n",
      "Best k: 3\n"
     ]
    }
   ],
   "source": [
    "best_k = None\n",
    "best_acc = 0\n",
    "for k in [1, 3, 5, 7, 11]:\n",
    "    clf = KNeighborsClassifier(n_neighbors=k, weights='distance')\n",
    "    clf.fit(X_train_pca, y_train)\n",
    "    yv = clf.predict(X_val_pca)\n",
    "    acc = accuracy_score(y_val, yv)\n",
    "    print(\"k =\", k, \"val acc =\", acc)\n",
    "    if acc > best_acc:\n",
    "        best_acc = acc\n",
    "        best_k = k\n",
    "\n",
    "print(\"Best k:\", best_k)"
   ]
  },
  {
   "cell_type": "code",
   "execution_count": 35,
   "id": "889cf514",
   "metadata": {},
   "outputs": [],
   "source": [
    "pca_full = PCA(n_components=100)\n",
    "X_full_pca = pca_full.fit_transform(X / 255.0)\n",
    "X_test_full_pca = pca_full.transform(X_test / 255.0)\n",
    "\n",
    "clf = KNeighborsClassifier(n_neighbors=best_k, weights='distance')\n",
    "clf.fit(X_full_pca, y)\n",
    "y_pred = clf.predict(X_test_full_pca)\n",
    "\n",
    "submission = pd.DataFrame({\"ImageId\": np.arange(1, len(y_pred)+1), \"Label\": y_pred})\n",
    "submission.to_csv(\"knn_submission.csv\", index=False)"
   ]
  }
 ],
 "metadata": {
  "kernelspec": {
   "display_name": "Python 3",
   "language": "python",
   "name": "python3"
  },
  "language_info": {
   "codemirror_mode": {
    "name": "ipython",
    "version": 3
   },
   "file_extension": ".py",
   "mimetype": "text/x-python",
   "name": "python",
   "nbconvert_exporter": "python",
   "pygments_lexer": "ipython3",
   "version": "3.13.5"
  }
 },
 "nbformat": 4,
 "nbformat_minor": 5
}
