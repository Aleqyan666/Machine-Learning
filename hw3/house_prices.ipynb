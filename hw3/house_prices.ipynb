{
 "cells": [
  {
   "cell_type": "markdown",
   "id": "332cc2cb",
   "metadata": {},
   "source": [
    "### Skeleton of Preprocessing pipeline "
   ]
  },
  {
   "cell_type": "code",
   "execution_count": null,
   "id": "921e0187",
   "metadata": {},
   "outputs": [],
   "source": [
    "import numpy as np\n",
    "import pandas as pd\n",
    "from sklearn.model_selection import KFold, cross_val_score\n",
    "from sklearn.pipeline import Pipeline\n",
    "from sklearn.compose import ColumnTransformer\n",
    "from sklearn.impute import SimpleImputer\n",
    "from sklearn.preprocessing import StandardScaler, OneHotEncoder\n",
    "from sklearn.metrics import mean_squared_error\n",
    "from sklearn.model_selection import GridSearchCV\n",
    "from sklearn.linear_model import Ridge, Lasso, ElasticNet"
   ]
  },
  {
   "cell_type": "code",
   "execution_count": 7,
   "id": "083e5bf4",
   "metadata": {},
   "outputs": [],
   "source": [
    "train = pd.read_csv(\"train2.csv\")\n",
    "test = pd.read_csv(\"test2.csv\")\n",
    "y = train[\"SalePrice\"]\n",
    "X = train.drop(\"SalePrice\", axis=1)\n",
    "\n",
    "y_log = np.log1p(y)\n",
    "\n",
    "num_feats = X.select_dtypes(include=[\"int64\", \"float64\"]).columns.tolist()\n",
    "cat_feats = X.select_dtypes(include=[\"object\"]).columns.tolist()"
   ]
  },
  {
   "cell_type": "markdown",
   "id": "c0e70c91",
   "metadata": {},
   "source": [
    "### Preprocessors\n"
   ]
  },
  {
   "cell_type": "code",
   "execution_count": 8,
   "id": "c82b9e10",
   "metadata": {},
   "outputs": [],
   "source": [
    "num_transformer = Pipeline(steps=[\n",
    "    (\"imputer\", SimpleImputer(strategy=\"median\")),\n",
    "    (\"scaler\", StandardScaler())\n",
    "])\n",
    "\n",
    "cat_transformer = Pipeline(steps=[\n",
    "    (\"imputer\", SimpleImputer(strategy=\"most_frequent\")),\n",
    "    (\"onehot\", OneHotEncoder(handle_unknown=\"ignore\"))\n",
    "])\n",
    "\n",
    "preprocessor = ColumnTransformer(transformers=[\n",
    "    (\"num\", num_transformer, num_feats),\n",
    "    (\"cat\", cat_transformer, cat_feats)\n",
    "])"
   ]
  },
  {
   "cell_type": "markdown",
   "id": "06b046ca",
   "metadata": {},
   "source": [
    "## Ridge Regression"
   ]
  },
  {
   "cell_type": "code",
   "execution_count": 9,
   "id": "07ec7bcb",
   "metadata": {},
   "outputs": [],
   "source": [
    "pipe_ridge = Pipeline(steps=[\n",
    "    (\"preproc\", preprocessor),\n",
    "    (\"ridge\", Ridge())\n",
    "])"
   ]
  },
  {
   "cell_type": "code",
   "execution_count": 10,
   "id": "d4ba808e",
   "metadata": {},
   "outputs": [
    {
     "name": "stdout",
     "output_type": "stream",
     "text": [
      "Fitting 5 folds for each of 7 candidates, totalling 35 fits\n",
      "Best ridge alpha: {'ridge__alpha': 10.0}\n",
      "Best CV RMSE: 0.13987861352192976\n"
     ]
    }
   ],
   "source": [
    "param_grid = {\"ridge__alpha\": [0.1, 1.0, 10.0, 50.0, 100.0, 200.0, 500.0]}\n",
    "grid_ridge = GridSearchCV(pipe_ridge, param_grid, cv=5, scoring=\"neg_root_mean_squared_error\", verbose=1)\n",
    "grid_ridge.fit(X, y_log)  \n",
    "print(\"Best ridge alpha:\", grid_ridge.best_params_)\n",
    "print(\"Best CV RMSE:\", -grid_ridge.best_score_)"
   ]
  },
  {
   "cell_type": "markdown",
   "id": "4a809279",
   "metadata": {},
   "source": [
    "### Prediction"
   ]
  },
  {
   "cell_type": "code",
   "execution_count": 11,
   "id": "bf1daed0",
   "metadata": {},
   "outputs": [],
   "source": [
    "best_ridge = grid_ridge.best_estimator_\n",
    "best_ridge.fit(X, y_log)\n",
    "\n",
    "X_test = test.copy()\n",
    "y_test_log_pred = best_ridge.predict(X_test)\n",
    "\n",
    "y_test_pred = np.expm1(y_test_log_pred) # converting to the oginal scale\n",
    "\n",
    "submission = pd.DataFrame({\n",
    "    \"Id\": test[\"Id\"],\n",
    "    \"SalePrice\": y_test_pred\n",
    "})\n",
    "submission.to_csv(\"ridge_submission.csv\", index=False)"
   ]
  },
  {
   "cell_type": "markdown",
   "id": "aa9da49b",
   "metadata": {},
   "source": [
    "## Lasso Regression"
   ]
  },
  {
   "cell_type": "code",
   "execution_count": 12,
   "id": "db603c93",
   "metadata": {},
   "outputs": [],
   "source": [
    "pipe_lasso = Pipeline(steps=[\n",
    "    (\"preproc\", preprocessor),\n",
    "    (\"lasso\", Lasso(max_iter=10000))\n",
    "])"
   ]
  },
  {
   "cell_type": "code",
   "execution_count": 13,
   "id": "f3972c87",
   "metadata": {},
   "outputs": [
    {
     "name": "stdout",
     "output_type": "stream",
     "text": [
      "Fitting 5 folds for each of 5 candidates, totalling 25 fits\n",
      "Best lasso alpha: {'lasso__alpha': 0.001}\n",
      "Best CV RMSE: 0.13728117657977687\n"
     ]
    }
   ],
   "source": [
    "param_grid = {\"lasso__alpha\": [0.0001, 0.001, 0.01, 0.1, 1.0]}\n",
    "grid_lasso = GridSearchCV(pipe_lasso, param_grid, cv=5, scoring=\"neg_root_mean_squared_error\", verbose=1)\n",
    "grid_lasso.fit(X, y_log)\n",
    "\n",
    "print(\"Best lasso alpha:\", grid_lasso.best_params_)\n",
    "print(\"Best CV RMSE:\", -grid_lasso.best_score_)"
   ]
  },
  {
   "cell_type": "markdown",
   "id": "c788f77f",
   "metadata": {},
   "source": [
    "### Results"
   ]
  },
  {
   "cell_type": "code",
   "execution_count": 14,
   "id": "8ca8b15c",
   "metadata": {},
   "outputs": [],
   "source": [
    "best_lasso = grid_lasso.best_estimator_\n",
    "best_lasso.fit(X, y_log)\n",
    "y_test_log_pred = best_lasso.predict(X_test)\n",
    "y_test_pred = np.expm1(y_test_log_pred)\n",
    "\n",
    "submission = pd.DataFrame({\"Id\": test[\"Id\"], \"SalePrice\": y_test_pred})\n",
    "submission.to_csv(\"lasso_submission.csv\", index=False)"
   ]
  },
  {
   "cell_type": "markdown",
   "id": "028fa30c",
   "metadata": {},
   "source": [
    "## Elastic Net"
   ]
  },
  {
   "cell_type": "code",
   "execution_count": 15,
   "id": "01baf1c3",
   "metadata": {},
   "outputs": [],
   "source": [
    "pipe_enet = Pipeline(steps=[\n",
    "    (\"preproc\", preprocessor),\n",
    "    (\"enet\", ElasticNet(max_iter=10000))\n",
    "])"
   ]
  },
  {
   "cell_type": "code",
   "execution_count": 16,
   "id": "29365219",
   "metadata": {},
   "outputs": [
    {
     "name": "stdout",
     "output_type": "stream",
     "text": [
      "Fitting 5 folds for each of 25 candidates, totalling 125 fits\n",
      "Best enet params: {'enet__alpha': 0.001, 'enet__l1_ratio': 0.5}\n",
      "Best CV RMSE: 0.13600570135674078\n"
     ]
    }
   ],
   "source": [
    "param_grid = {\n",
    "    \"enet__alpha\": [0.0001, 0.001, 0.01, 0.1, 1.0],\n",
    "    \"enet__l1_ratio\": [0.1, 0.3, 0.5, 0.7, 0.9]\n",
    "}\n",
    "\n",
    "grid_enet = GridSearchCV(pipe_enet, param_grid, cv=5, scoring=\"neg_root_mean_squared_error\", verbose=1)\n",
    "grid_enet.fit(X, y_log)\n",
    "\n",
    "print(\"Best enet params:\", grid_enet.best_params_)\n",
    "print(\"Best CV RMSE:\", -grid_enet.best_score_)"
   ]
  },
  {
   "cell_type": "code",
   "execution_count": 17,
   "id": "58842383",
   "metadata": {},
   "outputs": [],
   "source": [
    "best_enet = grid_enet.best_estimator_\n",
    "best_enet.fit(X, y_log)\n",
    "y_test_log_pred = best_enet.predict(X_test)\n",
    "y_test_pred = np.expm1(y_test_log_pred)\n",
    "\n",
    "submission = pd.DataFrame({\"Id\": test[\"Id\"], \"SalePrice\": y_test_pred})\n",
    "submission.to_csv(\"enet_submission.csv\", index=False)\n"
   ]
  }
 ],
 "metadata": {
  "kernelspec": {
   "display_name": "Python 3",
   "language": "python",
   "name": "python3"
  },
  "language_info": {
   "codemirror_mode": {
    "name": "ipython",
    "version": 3
   },
   "file_extension": ".py",
   "mimetype": "text/x-python",
   "name": "python",
   "nbconvert_exporter": "python",
   "pygments_lexer": "ipython3",
   "version": "3.13.5"
  }
 },
 "nbformat": 4,
 "nbformat_minor": 5
}
