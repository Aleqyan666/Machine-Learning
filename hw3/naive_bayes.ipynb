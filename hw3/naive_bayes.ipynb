{
 "cells": [
  {
   "cell_type": "markdown",
   "id": "b1a84a40",
   "metadata": {},
   "source": [
    "### Import libraries"
   ]
  },
  {
   "cell_type": "code",
   "execution_count": 12,
   "id": "1a214936",
   "metadata": {},
   "outputs": [],
   "source": [
    "import pandas as pd\n",
    "from sklearn.preprocessing import LabelEncoder\n",
    "from sklearn.naive_bayes import CategoricalNB"
   ]
  },
  {
   "cell_type": "code",
   "execution_count": 13,
   "id": "935eeb15",
   "metadata": {},
   "outputs": [],
   "source": [
    "data = {\n",
    "    'age': ['<=30', '<=30', '31..40', '>40', '>40', '>40', '31..40', '<=30', '<=30', '>40', '<=30', '31..40', '31..40', '>40'],\n",
    "    'income': ['high', 'high', 'high', 'medium', 'low', 'low', 'low', 'medium', 'low', 'medium', 'medium', 'medium', 'high', 'medium'],\n",
    "    'student': ['no', 'no', 'no', 'no', 'yes', 'yes', 'yes', 'no', 'yes', 'yes', 'yes', 'no', 'yes', 'no'],\n",
    "    'credit_rating': ['fair', 'excellent', 'fair', 'fair', 'fair', 'excellent', 'excellent', 'fair', 'fair', 'fair', 'excellent', 'excellent', 'fair', 'excellent'],\n",
    "    'buys_computer': ['no', 'no', 'yes', 'yes', 'yes', 'no', 'yes', 'no', 'yes', 'yes', 'yes', 'yes', 'yes', 'no']\n",
    "}\n",
    "\n",
    "df = pd.DataFrame(data)"
   ]
  },
  {
   "cell_type": "markdown",
   "id": "b8d98287",
   "metadata": {},
   "source": [
    "### Encoding categorical features"
   ]
  },
  {
   "cell_type": "code",
   "execution_count": 14,
   "id": "6d6a2422",
   "metadata": {},
   "outputs": [],
   "source": [
    "le_dict = {}\n",
    "for column in df.columns:\n",
    "    le = LabelEncoder()\n",
    "    df[column] = le.fit_transform(df[column])\n",
    "    le_dict[column] = le  "
   ]
  },
  {
   "cell_type": "markdown",
   "id": "58e76c0e",
   "metadata": {},
   "source": [
    "### Test/Target Split & New Record to Predict"
   ]
  },
  {
   "cell_type": "code",
   "execution_count": 15,
   "id": "5c390410",
   "metadata": {},
   "outputs": [],
   "source": [
    "X = df[['age', 'income', 'student', 'credit_rating']]\n",
    "y = df['buys_computer']\n",
    "\n",
    "model = CategoricalNB()\n",
    "model.fit(X, y)\n",
    "\n",
    "new_example = pd.DataFrame([['<=30', 'high', 'yes', 'excellent']], \n",
    "                           columns=['age','income','student','credit_rating'])\n",
    "\n",
    "for column in new_example.columns:\n",
    "    new_example[column] = le_dict[column].transform(new_example[column])"
   ]
  },
  {
   "cell_type": "markdown",
   "id": "c19c3846",
   "metadata": {},
   "source": [
    "### Prediction"
   ]
  },
  {
   "cell_type": "code",
   "execution_count": 16,
   "id": "6c2f51ba",
   "metadata": {},
   "outputs": [
    {
     "name": "stdout",
     "output_type": "stream",
     "text": [
      "Predicted class for the new example: no\n"
     ]
    }
   ],
   "source": [
    "prediction = model.predict(new_example)\n",
    "predicted_label = le_dict['buys_computer'].inverse_transform(prediction)\n",
    "print(\"Predicted class for the new example:\", predicted_label[0])"
   ]
  }
 ],
 "metadata": {
  "kernelspec": {
   "display_name": "Python 3",
   "language": "python",
   "name": "python3"
  },
  "language_info": {
   "codemirror_mode": {
    "name": "ipython",
    "version": 3
   },
   "file_extension": ".py",
   "mimetype": "text/x-python",
   "name": "python",
   "nbconvert_exporter": "python",
   "pygments_lexer": "ipython3",
   "version": "3.13.5"
  }
 },
 "nbformat": 4,
 "nbformat_minor": 5
}
